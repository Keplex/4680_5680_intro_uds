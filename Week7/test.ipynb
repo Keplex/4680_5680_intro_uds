{
 "cells": [
  {
   "cell_type": "code",
   "execution_count": 1,
   "metadata": {},
   "outputs": [
    {
     "name": "stderr",
     "output_type": "stream",
     "text": [
      "<string>:1: UserWarning: Shapely 2.0 is installed, but because PyGEOS is also installed, GeoPandas will still use PyGEOS by default for now. To force to use and test Shapely 2.0, you have to set the environment variable USE_PYGEOS=0. You can do this before starting the Python process, or in your code before importing geopandas:\n",
      "\n",
      "import os\n",
      "os.environ['USE_PYGEOS'] = '0'\n",
      "import geopandas\n",
      "\n",
      "In a future release, GeoPandas will switch to using Shapely by default. If you are using PyGEOS directly (calling PyGEOS functions on geometries from GeoPandas), this will then stop working and you are encouraged to migrate from PyGEOS to Shapely 2.0 (https://shapely.readthedocs.io/en/latest/migration_pygeos.html).\n",
      "/Users/tangjiaxuan/opt/anaconda3/envs/gds_py/lib/python3.9/site-packages/spaghetti/network.py:39: FutureWarning: The next major release of pysal/spaghetti (2.0.0) will drop support for all ``libpysal.cg`` geometries. This change is a first step in refactoring ``spaghetti`` that is expected to result in dramatically reduced runtimes for network instantiation and operations. Users currently requiring network and point pattern input as ``libpysal.cg`` geometries should prepare for this simply by converting to ``shapely`` geometries.\n",
      "  warnings.warn(f\"{dep_msg}\", FutureWarning)\n"
     ]
    },
    {
     "ename": "ImportError",
     "evalue": "cannot import name 'Local_Spatial_Pearson' from 'esda.lee' (/Users/tangjiaxuan/opt/anaconda3/envs/gds_py/lib/python3.9/site-packages/esda/lee.py)",
     "output_type": "error",
     "traceback": [
      "\u001b[0;31m---------------------------------------------------------------------------\u001b[0m",
      "\u001b[0;31mImportError\u001b[0m                               Traceback (most recent call last)",
      "Cell \u001b[0;32mIn[1], line 7\u001b[0m\n\u001b[1;32m      5\u001b[0m y[\u001b[39m0\u001b[39m:\u001b[39m8\u001b[39m] \u001b[39m=\u001b[39m \u001b[39m0\u001b[39m\n\u001b[1;32m      6\u001b[0m np\u001b[39m.\u001b[39mrandom\u001b[39m.\u001b[39mseed(\u001b[39m12345\u001b[39m)\n\u001b[0;32m----> 7\u001b[0m \u001b[39mfrom\u001b[39;00m \u001b[39mpysal\u001b[39;00m\u001b[39m.\u001b[39;00m\u001b[39mexplore\u001b[39;00m\u001b[39m.\u001b[39;00m\u001b[39mesda\u001b[39;00m\u001b[39m.\u001b[39;00m\u001b[39mjoin_counts\u001b[39;00m \u001b[39mimport\u001b[39;00m Join_Counts\n\u001b[1;32m      8\u001b[0m jc \u001b[39m=\u001b[39m Join_Counts(y, w)\n\u001b[1;32m      9\u001b[0m jc\u001b[39m.\u001b[39mbb\n",
      "File \u001b[0;32m~/opt/anaconda3/envs/gds_py/lib/python3.9/site-packages/pysal/explore/esda/__init__.py:16\u001b[0m\n\u001b[1;32m     14\u001b[0m \u001b[39mfrom\u001b[39;00m \u001b[39mesda\u001b[39;00m\u001b[39m.\u001b[39;00m\u001b[39mutil\u001b[39;00m \u001b[39mimport\u001b[39;00m fdr\n\u001b[1;32m     15\u001b[0m \u001b[39mfrom\u001b[39;00m \u001b[39mesda\u001b[39;00m\u001b[39m.\u001b[39;00m\u001b[39msmaup\u001b[39;00m \u001b[39mimport\u001b[39;00m Smaup\n\u001b[0;32m---> 16\u001b[0m \u001b[39mfrom\u001b[39;00m \u001b[39mesda\u001b[39;00m\u001b[39m.\u001b[39;00m\u001b[39mlee\u001b[39;00m \u001b[39mimport\u001b[39;00m Spatial_Pearson, Local_Spatial_Pearson\n\u001b[1;32m     17\u001b[0m \u001b[39mfrom\u001b[39;00m \u001b[39mesda\u001b[39;00m\u001b[39m.\u001b[39;00m\u001b[39msilhouettes\u001b[39;00m \u001b[39mimport\u001b[39;00m (path_silhouette, boundary_silhouette,\n\u001b[1;32m     18\u001b[0m                           silhouette_alist, nearest_label)\n",
      "\u001b[0;31mImportError\u001b[0m: cannot import name 'Local_Spatial_Pearson' from 'esda.lee' (/Users/tangjiaxuan/opt/anaconda3/envs/gds_py/lib/python3.9/site-packages/esda/lee.py)"
     ]
    }
   ],
   "source": [
    "import numpy as np\n",
    "import pysal.lib\n",
    "w = pysal.lib.weights.lat2W(4, 4)\n",
    "y = np.ones(16)\n",
    "y[0:8] = 0\n",
    "np.random.seed(12345)\n",
    "from pysal.explore.esda.join_counts import Join_Counts\n",
    "jc = Join_Counts(y, w)\n",
    "jc.bb"
   ]
  }
 ],
 "metadata": {
  "kernelspec": {
   "display_name": "gds_py",
   "language": "python",
   "name": "python3"
  },
  "language_info": {
   "codemirror_mode": {
    "name": "ipython",
    "version": 3
   },
   "file_extension": ".py",
   "mimetype": "text/x-python",
   "name": "python",
   "nbconvert_exporter": "python",
   "pygments_lexer": "ipython3",
   "version": "3.9.15"
  },
  "orig_nbformat": 4
 },
 "nbformat": 4,
 "nbformat_minor": 2
}
