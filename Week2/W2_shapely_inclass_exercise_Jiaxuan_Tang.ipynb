{
 "cells": [
  {
   "cell_type": "markdown",
   "id": "d6360dee",
   "metadata": {},
   "source": [
    "## 4.1 Exercise 1 (5 points)\n",
    "\n",
    "Create a function called `create_point_geom()` that has two parameters (x_coord, y_coord). Function should create a shapely Point geometry object and return that. Demonstrate the usage of the function by creating 3 point geometries with the function."
   ]
  },
  {
   "cell_type": "code",
   "execution_count": 1,
   "id": "33f64926",
   "metadata": {},
   "outputs": [],
   "source": [
    "## Function to create point from coordinates\n",
    "from shapely.geometry import Point\n",
    "def create_point_geom(x, y):\n",
    "    \"\"\"This function creates a point geometry\n",
    "    input: x, y (numbers)\n",
    "    \"\"\"\n",
    "    point_func = Point(x,y)\n",
    "    return point_func"
   ]
  },
  {
   "cell_type": "code",
   "execution_count": 2,
   "id": "2294b9dc",
   "metadata": {},
   "outputs": [
    {
     "data": {
      "image/svg+xml": "<svg xmlns=\"http://www.w3.org/2000/svg\" xmlns:xlink=\"http://www.w3.org/1999/xlink\" width=\"100.0\" height=\"100.0\" viewBox=\"-0.5 1.4 2.0 2.0\" preserveAspectRatio=\"xMinYMin meet\"><g transform=\"matrix(1,0,0,-1,0,4.8)\"><circle cx=\"0.5\" cy=\"2.4\" r=\"0.06\" stroke=\"#555555\" stroke-width=\"0.02\" fill=\"#66cc99\" opacity=\"0.6\" /></g></svg>",
      "text/plain": [
       "<POINT (0.5 2.4)>"
      ]
     },
     "execution_count": 2,
     "metadata": {},
     "output_type": "execute_result"
    }
   ],
   "source": [
    "## Test of the function below:\n",
    "point1 = create_point_geom(0.5,2.4)\n",
    "point1"
   ]
  },
  {
   "cell_type": "code",
   "execution_count": 3,
   "id": "a9aa89e2",
   "metadata": {},
   "outputs": [
    {
     "data": {
      "image/svg+xml": "<svg xmlns=\"http://www.w3.org/2000/svg\" xmlns:xlink=\"http://www.w3.org/1999/xlink\" width=\"100.0\" height=\"100.0\" viewBox=\"4.8 5.7 2.0 2.0\" preserveAspectRatio=\"xMinYMin meet\"><g transform=\"matrix(1,0,0,-1,0,13.4)\"><circle cx=\"5.8\" cy=\"6.7\" r=\"0.06\" stroke=\"#555555\" stroke-width=\"0.02\" fill=\"#66cc99\" opacity=\"0.6\" /></g></svg>",
      "text/plain": [
       "<POINT (5.8 6.7)>"
      ]
     },
     "execution_count": 3,
     "metadata": {},
     "output_type": "execute_result"
    }
   ],
   "source": [
    "point2 = create_point_geom(5.8,6.7)\n",
    "point2"
   ]
  },
  {
   "cell_type": "code",
   "execution_count": 4,
   "id": "0bd36bd7",
   "metadata": {},
   "outputs": [
    {
     "data": {
      "image/svg+xml": "<svg xmlns=\"http://www.w3.org/2000/svg\" xmlns:xlink=\"http://www.w3.org/1999/xlink\" width=\"100.0\" height=\"100.0\" viewBox=\"-2.5 9.6 2.0 2.0\" preserveAspectRatio=\"xMinYMin meet\"><g transform=\"matrix(1,0,0,-1,0,21.2)\"><circle cx=\"-1.5\" cy=\"10.6\" r=\"0.06\" stroke=\"#555555\" stroke-width=\"0.02\" fill=\"#66cc99\" opacity=\"0.6\" /></g></svg>",
      "text/plain": [
       "<POINT (-1.5 10.6)>"
      ]
     },
     "execution_count": 4,
     "metadata": {},
     "output_type": "execute_result"
    }
   ],
   "source": [
    "point3 = create_point_geom(-1.5,10.6)\n",
    "point3"
   ]
  },
  {
   "cell_type": "markdown",
   "id": "2cad7f45",
   "metadata": {},
   "source": [
    "Create a function `get_x_coord()` that takes a shapely point object and returns the x coordinate of that point"
   ]
  },
  {
   "cell_type": "code",
   "execution_count": 5,
   "id": "1057172c",
   "metadata": {},
   "outputs": [],
   "source": [
    "def get_x_coord(geom):\n",
    "    \"\"\"This function returns the x coordinate of a point geometry\n",
    "    input: geom (a point geometry)\n",
    "    We should first check if the geometry is a point.\n",
    "    \"\"\"\n",
    "    if geom.geom_type == 'Point':\n",
    "        return (geom.x)\n",
    "    else:\n",
    "        return (\"This is not a point!\")"
   ]
  },
  {
   "cell_type": "code",
   "execution_count": 6,
   "id": "5f231fa9",
   "metadata": {},
   "outputs": [
    {
     "data": {
      "text/plain": [
       "0.5"
      ]
     },
     "execution_count": 6,
     "metadata": {},
     "output_type": "execute_result"
    }
   ],
   "source": [
    "## Test of the function below:\n",
    "get_x_coord (point1)"
   ]
  },
  {
   "cell_type": "code",
   "execution_count": 7,
   "id": "717320b4",
   "metadata": {},
   "outputs": [
    {
     "data": {
      "text/plain": [
       "5.8"
      ]
     },
     "execution_count": 7,
     "metadata": {},
     "output_type": "execute_result"
    }
   ],
   "source": [
    "get_x_coord (point2)"
   ]
  },
  {
   "cell_type": "code",
   "execution_count": 8,
   "id": "717320b4",
   "metadata": {},
   "outputs": [
    {
     "data": {
      "text/plain": [
       "0.4"
      ]
     },
     "execution_count": 8,
     "metadata": {},
     "output_type": "execute_result"
    }
   ],
   "source": [
    "get_x_coord (Point(0.4,0.5))"
   ]
  },
  {
   "cell_type": "markdown",
   "id": "9dc6df4e",
   "metadata": {},
   "source": [
    "Create a function called `getCentroid()` that takes any kind of Shapely’s geometry as input and returns a centroid of that geometry. Demonstrate the usage of the function."
   ]
  },
  {
   "cell_type": "code",
   "execution_count": 9,
   "id": "79d7084e",
   "metadata": {},
   "outputs": [],
   "source": [
    "def getCentroid(geom):\n",
    "    \"\"\"This function returns the centroid coordinate of any geometry\n",
    "    input: geom (any geometry)\n",
    "    \"\"\"\n",
    "    center = geom.centroid\n",
    "    return (center)"
   ]
  },
  {
   "cell_type": "code",
   "execution_count": 10,
   "id": "e858f80f",
   "metadata": {},
   "outputs": [
    {
     "data": {
      "image/svg+xml": "<svg xmlns=\"http://www.w3.org/2000/svg\" xmlns:xlink=\"http://www.w3.org/1999/xlink\" width=\"100.0\" height=\"100.0\" viewBox=\"3.1609195402298855 2.908045977011494 2.0 1.9999999999999996\" preserveAspectRatio=\"xMinYMin meet\"><g transform=\"matrix(1,0,0,-1,0,7.816091954022987)\"><circle cx=\"4.1609195402298855\" cy=\"3.908045977011494\" r=\"0.06\" stroke=\"#555555\" stroke-width=\"0.02\" fill=\"#66cc99\" opacity=\"0.6\" /></g></svg>",
      "text/plain": [
       "<POINT (4.161 3.908)>"
      ]
     },
     "execution_count": 10,
     "metadata": {},
     "output_type": "execute_result"
    }
   ],
   "source": [
    "## Test of the function below:\n",
    "from shapely.geometry import Polygon\n",
    "poly1 = Polygon([(1,3), (2,6), (5,9), (7,-1)])\n",
    "getCentroid (poly1)"
   ]
  },
  {
   "cell_type": "code",
   "execution_count": 11,
   "id": "5a2283fa",
   "metadata": {},
   "outputs": [
    {
     "data": {
      "image/svg+xml": "<svg xmlns=\"http://www.w3.org/2000/svg\" xmlns:xlink=\"http://www.w3.org/1999/xlink\" width=\"100.0\" height=\"100.0\" viewBox=\"1.6458980337503157 5.218847050625474 2.0 2.0\" preserveAspectRatio=\"xMinYMin meet\"><g transform=\"matrix(1,0,0,-1,0,12.437694101250948)\"><circle cx=\"2.6458980337503157\" cy=\"6.218847050625474\" r=\"0.06\" stroke=\"#555555\" stroke-width=\"0.02\" fill=\"#66cc99\" opacity=\"0.6\" /></g></svg>",
      "text/plain": [
       "<POINT (2.646 6.219)>"
      ]
     },
     "execution_count": 11,
     "metadata": {},
     "output_type": "execute_result"
    }
   ],
   "source": [
    "from shapely.geometry import LineString\n",
    "line1 = LineString([(1,3), (2,6), (5,9)])\n",
    "getCentroid (line1)"
   ]
  },
  {
   "cell_type": "code",
   "execution_count": 12,
   "id": "7c8edec0",
   "metadata": {},
   "outputs": [
    {
     "data": {
      "image/svg+xml": "<svg xmlns=\"http://www.w3.org/2000/svg\" xmlns:xlink=\"http://www.w3.org/1999/xlink\" width=\"100.0\" height=\"100.0\" viewBox=\"1.0 3.0 2.0 2.0\" preserveAspectRatio=\"xMinYMin meet\"><g transform=\"matrix(1,0,0,-1,0,8.0)\"><circle cx=\"2.0\" cy=\"4.0\" r=\"0.06\" stroke=\"#555555\" stroke-width=\"0.02\" fill=\"#66cc99\" opacity=\"0.6\" /></g></svg>",
      "text/plain": [
       "<POINT (2 4)>"
      ]
     },
     "execution_count": 12,
     "metadata": {},
     "output_type": "execute_result"
    }
   ],
   "source": [
    "poly2 = Polygon([(-5,3), (2,0), (9,9)])\n",
    "getCentroid (poly2)"
   ]
  },
  {
   "cell_type": "markdown",
   "id": "8b184979",
   "metadata": {},
   "source": [
    "Create a function called `getArea()` that takes a Shapely’s Polygon -object as input and returns the area of that geometry. Demonstrate the usage of the function."
   ]
  },
  {
   "cell_type": "code",
   "execution_count": 13,
   "id": "3143ca99",
   "metadata": {},
   "outputs": [],
   "source": [
    "## This function returns the area of a polygon.\n",
    "## We should first check if the input is a polygon\n",
    "def getArea (geom):\n",
    "    if geom.geom_type == 'Polygon':\n",
    "        return (geom.area)\n",
    "    else:\n",
    "        return (\"This is not a polygon!\")"
   ]
  },
  {
   "cell_type": "code",
   "execution_count": 14,
   "id": "e0ae807c",
   "metadata": {},
   "outputs": [
    {
     "data": {
      "text/plain": [
       "1.0"
      ]
     },
     "execution_count": 14,
     "metadata": {},
     "output_type": "execute_result"
    }
   ],
   "source": [
    "## Test of the function below\n",
    "from shapely.geometry import Polygon\n",
    "getArea (Polygon([(0,0), (0,1), (1,1), (1,0)]))"
   ]
  },
  {
   "cell_type": "code",
   "execution_count": 15,
   "id": "a6417fda",
   "metadata": {},
   "outputs": [
    {
     "data": {
      "text/plain": [
       "12.0"
      ]
     },
     "execution_count": 15,
     "metadata": {},
     "output_type": "execute_result"
    }
   ],
   "source": [
    "poly1 = Polygon([(0,0), (0,6), (3,4), (3,2)])\n",
    "getArea (poly1)"
   ]
  },
  {
   "cell_type": "code",
   "execution_count": 16,
   "id": "b51e3727",
   "metadata": {},
   "outputs": [
    {
     "data": {
      "text/plain": [
       "12.0"
      ]
     },
     "execution_count": 16,
     "metadata": {},
     "output_type": "execute_result"
    }
   ],
   "source": [
    "poly2 = Polygon([(-1,-1), (-4,7), (4,7), (1,7)])\n",
    "getArea (poly1)"
   ]
  },
  {
   "cell_type": "markdown",
   "id": "b1db1505",
   "metadata": {},
   "source": [
    "## 4.2 Exercise 2 (5 points)\n",
    "1. Create two geometries—a square and a circle—in such a way that they partially overlap, so that of the circle area overlaps with the square. Hint: use the `buffer()` function applied on a point geometry to create the circle.\n",
    "2. Calculate and plot the geometry representing the union of the square and the circle.\n",
    "<figure class=\"image\">\n",
    "<img src=\"https://geobgu.xyz/py/_images/exercise_solutions_shapely_14_0.svg\" alt=\"drawing\" width=\"100\" style=\"display: block; margin: 0 auto\"/>\n",
    "</figure>\n",
    "3. Calculate and plot the geometry representing the intersection of the square and the circle (Fig. 42).\n",
    "<figure class=\"image\">\n",
    "<img src=\"https://geobgu.xyz/py/_images/exercise_solutions_shapely_16_0.svg\" alt=\"drawing\" width=\"100\" style=\"display: block; margin: 0 auto\"/>\n",
    "</figure>\n",
    "4. Calculate the area of the intersection and of the the union geometries.\n"
   ]
  },
  {
   "cell_type": "code",
   "execution_count": 17,
   "id": "5199ac85",
   "metadata": {},
   "outputs": [
    {
     "data": {
      "image/svg+xml": "<svg xmlns=\"http://www.w3.org/2000/svg\" xmlns:xlink=\"http://www.w3.org/1999/xlink\" width=\"100.0\" height=\"100.0\" viewBox=\"-2.16 -2.16 4.32 4.32\" preserveAspectRatio=\"xMinYMin meet\"><g transform=\"matrix(1,0,0,-1,0,0.0)\"><path fill-rule=\"evenodd\" fill=\"#66cc99\" stroke=\"#555555\" stroke-width=\"0.0864\" opacity=\"0.6\" d=\"M 2.0,0.0 L 1.9903694533443939,-0.1960342806591212 L 1.9615705608064609,-0.3901806440322565 L 1.9138806714644176,-0.5805693545089247 L 1.8477590650225735,-0.7653668647301796 L 1.76384252869671,-0.9427934736519953 L 1.6629392246050905,-1.1111404660392044 L 1.546020906725474,-1.268786568327291 L 1.4142135623730951,-1.414213562373095 L 1.2687865683272912,-1.5460209067254738 L 1.1111404660392046,-1.6629392246050902 L 0.9427934736519956,-1.7638425286967099 L 0.7653668647301797,-1.8477590650225735 L 0.5805693545089246,-1.9138806714644179 L 0.3901806440322566,-1.9615705608064609 L 0.19603428065912154,-1.9903694533443936 L 1.2246467991473532e-16,-2.0 L -0.19603428065912132,-1.9903694533443939 L -0.3901806440322564,-1.9615705608064609 L -0.5805693545089244,-1.9138806714644179 L -0.7653668647301795,-1.8477590650225735 L -0.9427934736519954,-1.76384252869671 L -1.111140466039204,-1.662939224605091 L -1.2687865683272905,-1.5460209067254742 L -1.414213562373095,-1.4142135623730951 L -1.546020906725474,-1.268786568327291 L -1.6629392246050907,-1.1111404660392044 L -1.7638425286967099,-0.9427934736519956 L -1.8477590650225735,-0.7653668647301797 L -1.9138806714644176,-0.5805693545089247 L -1.9615705608064609,-0.39018064403225716 L -1.9903694533443936,-0.19603428065912168 L -2.0,-2.4492935982947064e-16 L -1.9903694533443939,0.19603428065912118 L -1.9615705608064609,0.3901806440322567 L -1.9138806714644179,0.5805693545089243 L -1.8477590650225735,0.7653668647301793 L -1.76384252869671,0.9427934736519953 L -1.662939224605091,1.111140466039204 L -1.5460209067254742,1.2687865683272905 L -1.4142135623730954,1.414213562373095 L -1.2687865683272919,1.5460209067254733 L -1.1111404660392044,1.6629392246050905 L -0.9427934736519957,1.7638425286967099 L -0.7653668647301807,1.847759065022573 L -0.5805693545089248,1.9138806714644176 L -0.39018064403225733,1.9615705608064606 L -0.1960342806591209,1.9903694533443939 L -3.6739403974420594e-16,2.0 L 0.19603428065912018,1.9903694533443939 L 0.39018064403225655,1.9615705608064609 L 0.5805693545089242,1.9138806714644179 L 0.76536686473018,1.8477590650225733 L 0.9427934736519952,1.76384252869671 L 1.1111404660392037,1.6629392246050911 L 1.2687865683272912,1.5460209067254738 L 1.414213562373095,1.4142135623730954 L 1.5460209067254733,1.2687865683272919 L 1.6629392246050905,1.1111404660392044 L 1.7638425286967099,0.9427934736519958 L 1.847759065022573,0.7653668647301808 L 1.9138806714644176,0.5805693545089249 L 1.9615705608064606,0.39018064403225744 L 1.9903694533443939,0.19603428065912104 L 2.0,0.0 z\" /></g></svg>",
      "text/plain": [
       "<POLYGON ((2 0, 1.99 -0.196, 1.962 -0.39, 1.914 -0.581, 1.848 -0.765, 1.764 ...>"
      ]
     },
     "execution_count": 17,
     "metadata": {},
     "output_type": "execute_result"
    }
   ],
   "source": [
    "## 4.2.1\n",
    "## Create the circle\n",
    "from shapely.geometry import LinearRing\n",
    "circle1 = Point (0,0).buffer (2)\n",
    "circle1"
   ]
  },
  {
   "cell_type": "code",
   "execution_count": 18,
   "id": "a1961ac6",
   "metadata": {},
   "outputs": [
    {
     "data": {
      "image/svg+xml": "<svg xmlns=\"http://www.w3.org/2000/svg\" xmlns:xlink=\"http://www.w3.org/1999/xlink\" width=\"100.0\" height=\"100.0\" viewBox=\"-4.16 -4.16 4.32 4.32\" preserveAspectRatio=\"xMinYMin meet\"><g transform=\"matrix(1,0,0,-1,0,-4.0)\"><path fill-rule=\"evenodd\" fill=\"#66cc99\" stroke=\"#555555\" stroke-width=\"0.0864\" opacity=\"0.6\" d=\"M 0.0,0.0 L 0.0,-4.0 L -4.0,-4.0 L -4.0,0.0 L 0.0,0.0 z\" /></g></svg>",
      "text/plain": [
       "<POLYGON ((0 0, 0 -4, -4 -4, -4 0, 0 0))>"
      ]
     },
     "execution_count": 18,
     "metadata": {},
     "output_type": "execute_result"
    }
   ],
   "source": [
    "## 4.2.1 continues\n",
    "## Create the square\n",
    "from shapely.geometry import Polygon\n",
    "poly1 = Polygon ([(0,0), (0,-4), (-4,-4), (-4,0)])\n",
    "poly1"
   ]
  },
  {
   "cell_type": "code",
   "execution_count": 19,
   "id": "e5446a39",
   "metadata": {},
   "outputs": [
    {
     "data": {
      "image/svg+xml": "<svg xmlns=\"http://www.w3.org/2000/svg\" xmlns:xlink=\"http://www.w3.org/1999/xlink\" width=\"100.0\" height=\"100.0\" viewBox=\"-4.24 -4.24 6.48 6.48\" preserveAspectRatio=\"xMinYMin meet\"><g transform=\"matrix(1,0,0,-1,0,-2.0)\"><path fill-rule=\"evenodd\" fill=\"#66cc99\" stroke=\"#555555\" stroke-width=\"0.12960000000000002\" opacity=\"0.6\" d=\"M 0.0,-4.0 L -4.0,-4.0 L -4.0,0.0 L -2.0,0.0 L -1.9903694533443939,0.19603428065912118 L -1.9615705608064609,0.3901806440322567 L -1.9138806714644179,0.5805693545089243 L -1.8477590650225735,0.7653668647301793 L -1.76384252869671,0.9427934736519953 L -1.662939224605091,1.111140466039204 L -1.5460209067254742,1.2687865683272905 L -1.4142135623730954,1.414213562373095 L -1.2687865683272919,1.5460209067254733 L -1.1111404660392044,1.6629392246050905 L -0.9427934736519957,1.7638425286967099 L -0.7653668647301807,1.847759065022573 L -0.5805693545089248,1.9138806714644176 L -0.39018064403225733,1.9615705608064606 L -0.1960342806591209,1.9903694533443939 L -3.6739403974420594e-16,2.0 L 0.19603428065912018,1.9903694533443939 L 0.39018064403225655,1.9615705608064609 L 0.5805693545089242,1.9138806714644179 L 0.76536686473018,1.8477590650225733 L 0.9427934736519952,1.76384252869671 L 1.1111404660392037,1.6629392246050911 L 1.2687865683272912,1.5460209067254738 L 1.414213562373095,1.4142135623730954 L 1.5460209067254733,1.2687865683272919 L 1.6629392246050905,1.1111404660392044 L 1.7638425286967099,0.9427934736519958 L 1.847759065022573,0.7653668647301808 L 1.9138806714644176,0.5805693545089249 L 1.9615705608064606,0.39018064403225744 L 1.9903694533443939,0.19603428065912104 L 2.0,0.0 L 1.9903694533443939,-0.1960342806591212 L 1.9615705608064609,-0.3901806440322565 L 1.9138806714644176,-0.5805693545089247 L 1.8477590650225735,-0.7653668647301796 L 1.76384252869671,-0.9427934736519953 L 1.6629392246050905,-1.1111404660392044 L 1.546020906725474,-1.268786568327291 L 1.4142135623730951,-1.414213562373095 L 1.2687865683272912,-1.5460209067254738 L 1.1111404660392046,-1.6629392246050902 L 0.9427934736519956,-1.7638425286967099 L 0.7653668647301797,-1.8477590650225735 L 0.5805693545089246,-1.9138806714644179 L 0.3901806440322566,-1.9615705608064609 L 0.19603428065912154,-1.9903694533443936 L 1.2246467991473532e-16,-2.0 L 0.0,-2.0 L 0.0,-4.0 z\" /></g></svg>",
      "text/plain": [
       "<POLYGON ((0 -4, -4 -4, -4 0, -2 0, -1.99 0.196, -1.962 0.39, -1.914 0.581, ...>"
      ]
     },
     "execution_count": 19,
     "metadata": {},
     "output_type": "execute_result"
    }
   ],
   "source": [
    "## 4.2.2\n",
    "## Union of the square and the circle\n",
    "union1 = poly1.union(circle1)\n",
    "union1"
   ]
  },
  {
   "cell_type": "code",
   "execution_count": 20,
   "id": "5c919f5b",
   "metadata": {},
   "outputs": [
    {
     "data": {
      "image/svg+xml": "<svg xmlns=\"http://www.w3.org/2000/svg\" xmlns:xlink=\"http://www.w3.org/1999/xlink\" width=\"100.0\" height=\"100.0\" viewBox=\"-2.08 -2.08 2.16 2.16\" preserveAspectRatio=\"xMinYMin meet\"><g transform=\"matrix(1,0,0,-1,0,-2.0)\"><path fill-rule=\"evenodd\" fill=\"#66cc99\" stroke=\"#555555\" stroke-width=\"0.0432\" opacity=\"0.6\" d=\"M 0.0,-2.0 L -0.19603428065912132,-1.9903694533443939 L -0.3901806440322564,-1.9615705608064609 L -0.5805693545089244,-1.9138806714644179 L -0.7653668647301795,-1.8477590650225735 L -0.9427934736519954,-1.76384252869671 L -1.111140466039204,-1.662939224605091 L -1.2687865683272905,-1.5460209067254742 L -1.414213562373095,-1.4142135623730951 L -1.546020906725474,-1.268786568327291 L -1.6629392246050907,-1.1111404660392044 L -1.7638425286967099,-0.9427934736519956 L -1.8477590650225735,-0.7653668647301797 L -1.9138806714644176,-0.5805693545089247 L -1.9615705608064609,-0.39018064403225716 L -1.9903694533443936,-0.19603428065912168 L -2.0,-2.4492935982947064e-16 L -2.0,0.0 L 0.0,0.0 L 0.0,-2.0 z\" /></g></svg>",
      "text/plain": [
       "<POLYGON ((0 -2, -0.196 -1.99, -0.39 -1.962, -0.581 -1.914, -0.765 -1.848, -...>"
      ]
     },
     "execution_count": 20,
     "metadata": {},
     "output_type": "execute_result"
    }
   ],
   "source": [
    "## 4.2.3\n",
    "## Intersection of the square and the circle\n",
    "intersection1 = poly1.intersection(circle1)\n",
    "intersection1"
   ]
  },
  {
   "cell_type": "code",
   "execution_count": 21,
   "id": "ce68647a",
   "metadata": {},
   "outputs": [
    {
     "data": {
      "text/plain": [
       "3.1365484905459398"
      ]
     },
     "execution_count": 21,
     "metadata": {},
     "output_type": "execute_result"
    }
   ],
   "source": [
    "## 4.2.4\n",
    "## Area of the intersection\n",
    "area_inters = intersection1.area\n",
    "area_inters"
   ]
  },
  {
   "cell_type": "code",
   "execution_count": 22,
   "id": "34a707e6",
   "metadata": {},
   "outputs": [
    {
     "data": {
      "text/plain": [
       "25.409645471637823"
      ]
     },
     "execution_count": 22,
     "metadata": {},
     "output_type": "execute_result"
    }
   ],
   "source": [
    "## 4.2.4 continues\n",
    "## Area of the union\n",
    "area_union = union1.area\n",
    "area_union"
   ]
  },
  {
   "cell_type": "markdown",
   "id": "765f28b1",
   "metadata": {},
   "source": [
    "## 4.3 Exercise 3 (5 points)\n",
    "In the following exercise, we are going to use a subset of the [Bus Stop Shelters dataset from NYC OpenData](https://data.cityofnewyork.us/Transportation/Bus-Stop-Shelters/qafz-7myz) containing the locations of bus stops in Rockaway Beach.\n",
    "\n",
    "For now, let's assume these locations make up one route."
   ]
  },
  {
   "cell_type": "code",
   "execution_count": 23,
   "id": "b5311311",
   "metadata": {},
   "outputs": [],
   "source": [
    "import pandas as pd\n",
    "bus_stops = pd.read_csv('Bus_Stop_Shelter_Rockaways.csv')\n",
    "bus_stops = bus_stops.sort_values(['Longitude', 'Latitude'])"
   ]
  },
  {
   "cell_type": "markdown",
   "id": "b9d8b2fe",
   "metadata": {},
   "source": [
    "Let's look at the first 5 rows"
   ]
  },
  {
   "cell_type": "code",
   "execution_count": 24,
   "id": "2abb9fe9",
   "metadata": {},
   "outputs": [
    {
     "data": {
      "text/html": [
       "<div>\n",
       "<style scoped>\n",
       "    .dataframe tbody tr th:only-of-type {\n",
       "        vertical-align: middle;\n",
       "    }\n",
       "\n",
       "    .dataframe tbody tr th {\n",
       "        vertical-align: top;\n",
       "    }\n",
       "\n",
       "    .dataframe thead th {\n",
       "        text-align: right;\n",
       "    }\n",
       "</style>\n",
       "<table border=\"1\" class=\"dataframe\">\n",
       "  <thead>\n",
       "    <tr style=\"text-align: right;\">\n",
       "      <th></th>\n",
       "      <th>Unnamed: 0</th>\n",
       "      <th>the_geom</th>\n",
       "      <th>BoroCode</th>\n",
       "      <th>BoroName</th>\n",
       "      <th>BoroCD</th>\n",
       "      <th>CounDist</th>\n",
       "      <th>AssemDist</th>\n",
       "      <th>StSenDist</th>\n",
       "      <th>CongDist</th>\n",
       "      <th>Shelter_ID</th>\n",
       "      <th>Corner</th>\n",
       "      <th>On_Street</th>\n",
       "      <th>Cross_Stre</th>\n",
       "      <th>Longitude</th>\n",
       "      <th>Latitude</th>\n",
       "      <th>NTAName</th>\n",
       "      <th>FEMAFldz</th>\n",
       "      <th>FEMAFldT</th>\n",
       "      <th>HrcEvac</th>\n",
       "    </tr>\n",
       "  </thead>\n",
       "  <tbody>\n",
       "    <tr>\n",
       "      <th>19</th>\n",
       "      <td>2759</td>\n",
       "      <td>POINT (-73.84784861080628 40.57611876479319)</td>\n",
       "      <td>4</td>\n",
       "      <td>Queens</td>\n",
       "      <td>414</td>\n",
       "      <td>32</td>\n",
       "      <td>23</td>\n",
       "      <td>10</td>\n",
       "      <td>5</td>\n",
       "      <td>QN04567</td>\n",
       "      <td>NE</td>\n",
       "      <td>ROCKAWAY BEACH BLVD</td>\n",
       "      <td>BEACH 129 ST</td>\n",
       "      <td>-73.847850</td>\n",
       "      <td>40.576127</td>\n",
       "      <td>Breezy Point-Belle Harbor-Rockaway Park-Broad ...</td>\n",
       "      <td>X</td>\n",
       "      <td>AREA OF MINIMAL FLOOD HAZARD</td>\n",
       "      <td>1.0</td>\n",
       "    </tr>\n",
       "    <tr>\n",
       "      <th>11</th>\n",
       "      <td>2418</td>\n",
       "      <td>POINT (-73.83838161278774 40.58131076382985)</td>\n",
       "      <td>4</td>\n",
       "      <td>Queens</td>\n",
       "      <td>414</td>\n",
       "      <td>32</td>\n",
       "      <td>23</td>\n",
       "      <td>10</td>\n",
       "      <td>5</td>\n",
       "      <td>QN04159</td>\n",
       "      <td>SW</td>\n",
       "      <td>NEWPORT AV</td>\n",
       "      <td>BEACH 116 ST</td>\n",
       "      <td>-73.838383</td>\n",
       "      <td>40.581319</td>\n",
       "      <td>Breezy Point-Belle Harbor-Rockaway Park-Broad ...</td>\n",
       "      <td>AE</td>\n",
       "      <td>NaN</td>\n",
       "      <td>1.0</td>\n",
       "    </tr>\n",
       "    <tr>\n",
       "      <th>3</th>\n",
       "      <td>2328</td>\n",
       "      <td>POINT (-73.8290056165102 40.58202976319081)</td>\n",
       "      <td>4</td>\n",
       "      <td>Queens</td>\n",
       "      <td>414</td>\n",
       "      <td>32</td>\n",
       "      <td>23</td>\n",
       "      <td>10</td>\n",
       "      <td>5</td>\n",
       "      <td>QN04051</td>\n",
       "      <td>SE</td>\n",
       "      <td>ROCKAWAY BEACH BLVD</td>\n",
       "      <td>BEACH 108 ST</td>\n",
       "      <td>-73.829007</td>\n",
       "      <td>40.582038</td>\n",
       "      <td>Breezy Point-Belle Harbor-Rockaway Park-Broad ...</td>\n",
       "      <td>X</td>\n",
       "      <td>AREA OF MINIMAL FLOOD HAZARD</td>\n",
       "      <td>1.0</td>\n",
       "    </tr>\n",
       "    <tr>\n",
       "      <th>4</th>\n",
       "      <td>2329</td>\n",
       "      <td>POINT (-73.8264796162047 40.58300576306968)</td>\n",
       "      <td>4</td>\n",
       "      <td>Queens</td>\n",
       "      <td>414</td>\n",
       "      <td>32</td>\n",
       "      <td>23</td>\n",
       "      <td>10</td>\n",
       "      <td>5</td>\n",
       "      <td>QN04053</td>\n",
       "      <td>NW</td>\n",
       "      <td>ROCKAWAY BEACH BLVD</td>\n",
       "      <td>BEACH 105 ST</td>\n",
       "      <td>-73.826481</td>\n",
       "      <td>40.583014</td>\n",
       "      <td>Breezy Point-Belle Harbor-Rockaway Park-Broad ...</td>\n",
       "      <td>X</td>\n",
       "      <td>AREA OF MINIMAL FLOOD HAZARD</td>\n",
       "      <td>1.0</td>\n",
       "    </tr>\n",
       "    <tr>\n",
       "      <th>2</th>\n",
       "      <td>2317</td>\n",
       "      <td>POINT (-73.82564861669952 40.5830027625186)</td>\n",
       "      <td>4</td>\n",
       "      <td>Queens</td>\n",
       "      <td>414</td>\n",
       "      <td>32</td>\n",
       "      <td>23</td>\n",
       "      <td>10</td>\n",
       "      <td>5</td>\n",
       "      <td>QN04034</td>\n",
       "      <td>SE</td>\n",
       "      <td>ROCKAWAY BEACH BLVD</td>\n",
       "      <td>BEACH 105 ST</td>\n",
       "      <td>-73.825650</td>\n",
       "      <td>40.583011</td>\n",
       "      <td>Breezy Point-Belle Harbor-Rockaway Park-Broad ...</td>\n",
       "      <td>X</td>\n",
       "      <td>AREA OF MINIMAL FLOOD HAZARD</td>\n",
       "      <td>1.0</td>\n",
       "    </tr>\n",
       "  </tbody>\n",
       "</table>\n",
       "</div>"
      ],
      "text/plain": [
       "    Unnamed: 0                                      the_geom  BoroCode  \\\n",
       "19        2759  POINT (-73.84784861080628 40.57611876479319)         4   \n",
       "11        2418  POINT (-73.83838161278774 40.58131076382985)         4   \n",
       "3         2328   POINT (-73.8290056165102 40.58202976319081)         4   \n",
       "4         2329   POINT (-73.8264796162047 40.58300576306968)         4   \n",
       "2         2317   POINT (-73.82564861669952 40.5830027625186)         4   \n",
       "\n",
       "   BoroName  BoroCD  CounDist  AssemDist  StSenDist  CongDist Shelter_ID  \\\n",
       "19   Queens     414        32         23         10         5    QN04567   \n",
       "11   Queens     414        32         23         10         5    QN04159   \n",
       "3    Queens     414        32         23         10         5    QN04051   \n",
       "4    Queens     414        32         23         10         5    QN04053   \n",
       "2    Queens     414        32         23         10         5    QN04034   \n",
       "\n",
       "   Corner            On_Street    Cross_Stre  Longitude   Latitude  \\\n",
       "19     NE  ROCKAWAY BEACH BLVD  BEACH 129 ST -73.847850  40.576127   \n",
       "11     SW           NEWPORT AV  BEACH 116 ST -73.838383  40.581319   \n",
       "3      SE  ROCKAWAY BEACH BLVD  BEACH 108 ST -73.829007  40.582038   \n",
       "4      NW  ROCKAWAY BEACH BLVD  BEACH 105 ST -73.826481  40.583014   \n",
       "2      SE  ROCKAWAY BEACH BLVD  BEACH 105 ST -73.825650  40.583011   \n",
       "\n",
       "                                              NTAName FEMAFldz  \\\n",
       "19  Breezy Point-Belle Harbor-Rockaway Park-Broad ...        X   \n",
       "11  Breezy Point-Belle Harbor-Rockaway Park-Broad ...       AE   \n",
       "3   Breezy Point-Belle Harbor-Rockaway Park-Broad ...        X   \n",
       "4   Breezy Point-Belle Harbor-Rockaway Park-Broad ...        X   \n",
       "2   Breezy Point-Belle Harbor-Rockaway Park-Broad ...        X   \n",
       "\n",
       "                        FEMAFldT  HrcEvac  \n",
       "19  AREA OF MINIMAL FLOOD HAZARD      1.0  \n",
       "11                           NaN      1.0  \n",
       "3   AREA OF MINIMAL FLOOD HAZARD      1.0  \n",
       "4   AREA OF MINIMAL FLOOD HAZARD      1.0  \n",
       "2   AREA OF MINIMAL FLOOD HAZARD      1.0  "
      ]
     },
     "execution_count": 24,
     "metadata": {},
     "output_type": "execute_result"
    }
   ],
   "source": [
    "# Insert your code here\n",
    "bus_stops.head(5)"
   ]
  },
  {
   "cell_type": "markdown",
   "id": "4e518457",
   "metadata": {},
   "source": [
    "Now, let's extract the `Longitude` and `Latitude` from this Pandas dataframe into a list of tuple coordinates. \n",
    "\n",
    "I will provide some code on how to loop through all the rows in the dataframe. \n",
    "\n",
    "Remember: x = long and y = lat\n"
   ]
  },
  {
   "cell_type": "code",
   "execution_count": 25,
   "id": "47ce78ac",
   "metadata": {},
   "outputs": [],
   "source": [
    "# First we are going to create an empty list\n",
    "stops_as_coords = []\n",
    "\n",
    "# Then, we are going to loop through the rows of the dataframe and extract the Long and Lat values as a tuple: \n",
    "for index, row in bus_stops.iterrows():\n",
    "    # We are going to append the tuple to the list\n",
    "    stops_as_coords.append((row['Longitude'], row['Latitude']))"
   ]
  },
  {
   "cell_type": "code",
   "execution_count": 26,
   "id": "1e67e26f",
   "metadata": {},
   "outputs": [
    {
     "data": {
      "text/plain": [
       "[(-73.84785, 40.576127),\n",
       " (-73.838383, 40.581319),\n",
       " (-73.829007, 40.582038),\n",
       " (-73.826481, 40.583014),\n",
       " (-73.82565, 40.583011),\n",
       " (-73.823539, 40.583859),\n",
       " (-73.823243, 40.583713),\n",
       " (-73.813181, 40.587175),\n",
       " (-73.809456, 40.587669),\n",
       " (-73.807734, 40.588109),\n",
       " (-73.806896, 40.587898),\n",
       " (-73.80534, 40.5881),\n",
       " (-73.802861, 40.588536),\n",
       " (-73.80004, 40.591838),\n",
       " (-73.796488, 40.592911),\n",
       " (-73.795784, 40.592783),\n",
       " (-73.785905, 40.594866),\n",
       " (-73.784939, 40.595143),\n",
       " (-73.784717, 40.594949),\n",
       " (-73.781451, 40.595374),\n",
       " (-73.781424, 40.595184),\n",
       " (-73.775375, 40.595618),\n",
       " (-73.772797, 40.595896),\n",
       " (-73.770176, 40.595974),\n",
       " (-73.756467, 40.595427),\n",
       " (-73.755541, 40.594991),\n",
       " (-73.753559, 40.609694),\n",
       " (-73.75352, 40.594941),\n",
       " (-73.75144, 40.59495),\n",
       " (-73.74961, 40.60267),\n",
       " (-73.744599, 40.596174),\n",
       " (-73.744211, 40.595975)]"
      ]
     },
     "execution_count": 26,
     "metadata": {},
     "output_type": "execute_result"
    }
   ],
   "source": [
    "# Voila\n",
    "stops_as_coords"
   ]
  },
  {
   "cell_type": "markdown",
   "id": "bf2d88c3",
   "metadata": {},
   "source": [
    "Calculate and plot a `MultiPoint` geometry with all stop locations."
   ]
  },
  {
   "cell_type": "code",
   "execution_count": 27,
   "id": "0dc36de7",
   "metadata": {},
   "outputs": [
    {
     "data": {
      "image/svg+xml": "<svg xmlns=\"http://www.w3.org/2000/svg\" xmlns:xlink=\"http://www.w3.org/1999/xlink\" width=\"100.0\" height=\"100.0\" viewBox=\"-73.85199555999999 40.57198144 0.11193011999998248 0.04185811999999345\" preserveAspectRatio=\"xMinYMin meet\"><g transform=\"matrix(1,0,0,-1,0,81.185821)\"><g><circle cx=\"-73.84785\" cy=\"40.576127\" r=\"0.0033579035999994743\" stroke=\"#555555\" stroke-width=\"0.0011193011999998247\" fill=\"#66cc99\" opacity=\"0.6\" /><circle cx=\"-73.838383\" cy=\"40.581319\" r=\"0.0033579035999994743\" stroke=\"#555555\" stroke-width=\"0.0011193011999998247\" fill=\"#66cc99\" opacity=\"0.6\" /><circle cx=\"-73.829007\" cy=\"40.582038\" r=\"0.0033579035999994743\" stroke=\"#555555\" stroke-width=\"0.0011193011999998247\" fill=\"#66cc99\" opacity=\"0.6\" /><circle cx=\"-73.826481\" cy=\"40.583014\" r=\"0.0033579035999994743\" stroke=\"#555555\" stroke-width=\"0.0011193011999998247\" fill=\"#66cc99\" opacity=\"0.6\" /><circle cx=\"-73.82565\" cy=\"40.583011\" r=\"0.0033579035999994743\" stroke=\"#555555\" stroke-width=\"0.0011193011999998247\" fill=\"#66cc99\" opacity=\"0.6\" /><circle cx=\"-73.823539\" cy=\"40.583859\" r=\"0.0033579035999994743\" stroke=\"#555555\" stroke-width=\"0.0011193011999998247\" fill=\"#66cc99\" opacity=\"0.6\" /><circle cx=\"-73.823243\" cy=\"40.583713\" r=\"0.0033579035999994743\" stroke=\"#555555\" stroke-width=\"0.0011193011999998247\" fill=\"#66cc99\" opacity=\"0.6\" /><circle cx=\"-73.813181\" cy=\"40.587175\" r=\"0.0033579035999994743\" stroke=\"#555555\" stroke-width=\"0.0011193011999998247\" fill=\"#66cc99\" opacity=\"0.6\" /><circle cx=\"-73.809456\" cy=\"40.587669\" r=\"0.0033579035999994743\" stroke=\"#555555\" stroke-width=\"0.0011193011999998247\" fill=\"#66cc99\" opacity=\"0.6\" /><circle cx=\"-73.807734\" cy=\"40.588109\" r=\"0.0033579035999994743\" stroke=\"#555555\" stroke-width=\"0.0011193011999998247\" fill=\"#66cc99\" opacity=\"0.6\" /><circle cx=\"-73.806896\" cy=\"40.587898\" r=\"0.0033579035999994743\" stroke=\"#555555\" stroke-width=\"0.0011193011999998247\" fill=\"#66cc99\" opacity=\"0.6\" /><circle cx=\"-73.80534\" cy=\"40.5881\" r=\"0.0033579035999994743\" stroke=\"#555555\" stroke-width=\"0.0011193011999998247\" fill=\"#66cc99\" opacity=\"0.6\" /><circle cx=\"-73.802861\" cy=\"40.588536\" r=\"0.0033579035999994743\" stroke=\"#555555\" stroke-width=\"0.0011193011999998247\" fill=\"#66cc99\" opacity=\"0.6\" /><circle cx=\"-73.80004\" cy=\"40.591838\" r=\"0.0033579035999994743\" stroke=\"#555555\" stroke-width=\"0.0011193011999998247\" fill=\"#66cc99\" opacity=\"0.6\" /><circle cx=\"-73.796488\" cy=\"40.592911\" r=\"0.0033579035999994743\" stroke=\"#555555\" stroke-width=\"0.0011193011999998247\" fill=\"#66cc99\" opacity=\"0.6\" /><circle cx=\"-73.795784\" cy=\"40.592783\" r=\"0.0033579035999994743\" stroke=\"#555555\" stroke-width=\"0.0011193011999998247\" fill=\"#66cc99\" opacity=\"0.6\" /><circle cx=\"-73.785905\" cy=\"40.594866\" r=\"0.0033579035999994743\" stroke=\"#555555\" stroke-width=\"0.0011193011999998247\" fill=\"#66cc99\" opacity=\"0.6\" /><circle cx=\"-73.784939\" cy=\"40.595143\" r=\"0.0033579035999994743\" stroke=\"#555555\" stroke-width=\"0.0011193011999998247\" fill=\"#66cc99\" opacity=\"0.6\" /><circle cx=\"-73.784717\" cy=\"40.594949\" r=\"0.0033579035999994743\" stroke=\"#555555\" stroke-width=\"0.0011193011999998247\" fill=\"#66cc99\" opacity=\"0.6\" /><circle cx=\"-73.781451\" cy=\"40.595374\" r=\"0.0033579035999994743\" stroke=\"#555555\" stroke-width=\"0.0011193011999998247\" fill=\"#66cc99\" opacity=\"0.6\" /><circle cx=\"-73.781424\" cy=\"40.595184\" r=\"0.0033579035999994743\" stroke=\"#555555\" stroke-width=\"0.0011193011999998247\" fill=\"#66cc99\" opacity=\"0.6\" /><circle cx=\"-73.775375\" cy=\"40.595618\" r=\"0.0033579035999994743\" stroke=\"#555555\" stroke-width=\"0.0011193011999998247\" fill=\"#66cc99\" opacity=\"0.6\" /><circle cx=\"-73.772797\" cy=\"40.595896\" r=\"0.0033579035999994743\" stroke=\"#555555\" stroke-width=\"0.0011193011999998247\" fill=\"#66cc99\" opacity=\"0.6\" /><circle cx=\"-73.770176\" cy=\"40.595974\" r=\"0.0033579035999994743\" stroke=\"#555555\" stroke-width=\"0.0011193011999998247\" fill=\"#66cc99\" opacity=\"0.6\" /><circle cx=\"-73.756467\" cy=\"40.595427\" r=\"0.0033579035999994743\" stroke=\"#555555\" stroke-width=\"0.0011193011999998247\" fill=\"#66cc99\" opacity=\"0.6\" /><circle cx=\"-73.755541\" cy=\"40.594991\" r=\"0.0033579035999994743\" stroke=\"#555555\" stroke-width=\"0.0011193011999998247\" fill=\"#66cc99\" opacity=\"0.6\" /><circle cx=\"-73.753559\" cy=\"40.609694\" r=\"0.0033579035999994743\" stroke=\"#555555\" stroke-width=\"0.0011193011999998247\" fill=\"#66cc99\" opacity=\"0.6\" /><circle cx=\"-73.75352\" cy=\"40.594941\" r=\"0.0033579035999994743\" stroke=\"#555555\" stroke-width=\"0.0011193011999998247\" fill=\"#66cc99\" opacity=\"0.6\" /><circle cx=\"-73.75144\" cy=\"40.59495\" r=\"0.0033579035999994743\" stroke=\"#555555\" stroke-width=\"0.0011193011999998247\" fill=\"#66cc99\" opacity=\"0.6\" /><circle cx=\"-73.74961\" cy=\"40.60267\" r=\"0.0033579035999994743\" stroke=\"#555555\" stroke-width=\"0.0011193011999998247\" fill=\"#66cc99\" opacity=\"0.6\" /><circle cx=\"-73.744599\" cy=\"40.596174\" r=\"0.0033579035999994743\" stroke=\"#555555\" stroke-width=\"0.0011193011999998247\" fill=\"#66cc99\" opacity=\"0.6\" /><circle cx=\"-73.744211\" cy=\"40.595975\" r=\"0.0033579035999994743\" stroke=\"#555555\" stroke-width=\"0.0011193011999998247\" fill=\"#66cc99\" opacity=\"0.6\" /></g></g></svg>",
      "text/plain": [
       "<MULTIPOINT (-73.848 40.576, -73.838 40.581, -73.829 40.582, -73.826 40.583,...>"
      ]
     },
     "execution_count": 27,
     "metadata": {},
     "output_type": "execute_result"
    }
   ],
   "source": [
    "## Show all stop locations using MultiPoint\n",
    "from shapely.geometry import MultiPoint\n",
    "stops_point = MultiPoint(stops_as_coords)\n",
    "stops_point"
   ]
  },
  {
   "cell_type": "markdown",
   "id": "d144957f",
   "metadata": {},
   "source": [
    "\n",
    "Calculate and plot a `LineString` geometry of the bus route\n"
   ]
  },
  {
   "cell_type": "code",
   "execution_count": 28,
   "id": "594102ed",
   "metadata": {},
   "outputs": [
    {
     "data": {
      "image/svg+xml": "<svg xmlns=\"http://www.w3.org/2000/svg\" xmlns:xlink=\"http://www.w3.org/1999/xlink\" width=\"100.0\" height=\"100.0\" viewBox=\"-73.85199555999999 40.57198144 0.11193011999998248 0.04185811999999345\" preserveAspectRatio=\"xMinYMin meet\"><g transform=\"matrix(1,0,0,-1,0,81.185821)\"><polyline fill=\"none\" stroke=\"#66cc99\" stroke-width=\"0.0022386023999996494\" points=\"-73.84785,40.576127 -73.838383,40.581319 -73.829007,40.582038 -73.826481,40.583014 -73.82565,40.583011 -73.823539,40.583859 -73.823243,40.583713 -73.813181,40.587175 -73.809456,40.587669 -73.807734,40.588109 -73.806896,40.587898 -73.80534,40.5881 -73.802861,40.588536 -73.80004,40.591838 -73.796488,40.592911 -73.795784,40.592783 -73.785905,40.594866 -73.784939,40.595143 -73.784717,40.594949 -73.781451,40.595374 -73.781424,40.595184 -73.775375,40.595618 -73.772797,40.595896 -73.770176,40.595974 -73.756467,40.595427 -73.755541,40.594991 -73.753559,40.609694 -73.75352,40.594941 -73.75144,40.59495 -73.74961,40.60267 -73.744599,40.596174 -73.744211,40.595975\" opacity=\"0.8\" /></g></svg>",
      "text/plain": [
       "<LINESTRING (-73.848 40.576, -73.838 40.581, -73.829 40.582, -73.826 40.583,...>"
      ]
     },
     "execution_count": 28,
     "metadata": {},
     "output_type": "execute_result"
    }
   ],
   "source": [
    "## LineString of but route\n",
    "from shapely.geometry import LineString\n",
    "bus_route = LineString(stops_as_coords)\n",
    "bus_route"
   ]
  },
  {
   "cell_type": "markdown",
   "id": "8bbce720",
   "metadata": {},
   "source": [
    "Calculate and plot a `LineString` geometry with the straight line between the first and last bus stops"
   ]
  },
  {
   "cell_type": "code",
   "execution_count": 29,
   "id": "1d2d4997",
   "metadata": {},
   "outputs": [
    {
     "data": {
      "image/svg+xml": "<svg xmlns=\"http://www.w3.org/2000/svg\" xmlns:xlink=\"http://www.w3.org/1999/xlink\" width=\"100.0\" height=\"100.0\" viewBox=\"-73.84214988 40.57755212 0.10170575999998732 0.02218976000000339\" preserveAspectRatio=\"xMinYMin meet\"><g transform=\"matrix(1,0,0,-1,0,81.177294)\"><polyline fill=\"none\" stroke=\"#66cc99\" stroke-width=\"0.0020341151999997463\" points=\"-73.838383,40.581319 -73.744211,40.595975\" opacity=\"0.8\" /></g></svg>",
      "text/plain": [
       "<LINESTRING (-73.838 40.581, -73.744 40.596)>"
      ]
     },
     "execution_count": 29,
     "metadata": {},
     "output_type": "execute_result"
    }
   ],
   "source": [
    "## Retrieve the first stop\n",
    "first_stop = stops_as_coords[1]\n",
    "## Retrieve the last stop\n",
    "last_stop = stops_as_coords[-1]\n",
    "## LineString between the first and last stop\n",
    "line_between = LineString([first_stop, last_stop])\n",
    "line_between"
   ]
  },
  {
   "cell_type": "markdown",
   "id": "0c5ee604",
   "metadata": {},
   "source": [
    "Calculate and plot the convex hull polygon of the bus stops"
   ]
  },
  {
   "cell_type": "code",
   "execution_count": 30,
   "id": "7700df5e",
   "metadata": {},
   "outputs": [
    {
     "data": {
      "image/svg+xml": "<svg xmlns=\"http://www.w3.org/2000/svg\" xmlns:xlink=\"http://www.w3.org/1999/xlink\" width=\"100.0\" height=\"100.0\" viewBox=\"-73.85199555999999 40.57198144 0.11193011999998248 0.04185811999999345\" preserveAspectRatio=\"xMinYMin meet\"><g transform=\"matrix(1,0,0,-1,0,81.185821)\"><path fill-rule=\"evenodd\" fill=\"#66cc99\" stroke=\"#555555\" stroke-width=\"0.0022386023999996494\" opacity=\"0.6\" d=\"M -73.84785,40.576127 L -73.838383,40.581319 L -73.753559,40.609694 L -73.744211,40.595975 L -73.84785,40.576127 z\" /></g></svg>",
      "text/plain": [
       "<POLYGON ((-73.848 40.576, -73.838 40.581, -73.754 40.61, -73.744 40.596, -7...>"
      ]
     },
     "execution_count": 30,
     "metadata": {},
     "output_type": "execute_result"
    }
   ],
   "source": [
    "# Calculate the convex hull\n",
    "convex_poly_stops = stops_point.convex_hull\n",
    "convex_poly_stops"
   ]
  }
 ],
 "metadata": {
  "kernelspec": {
   "display_name": "gds_py",
   "language": "python",
   "name": "python3"
  },
  "language_info": {
   "codemirror_mode": {
    "name": "ipython",
    "version": 3
   },
   "file_extension": ".py",
   "mimetype": "text/x-python",
   "name": "python",
   "nbconvert_exporter": "python",
   "pygments_lexer": "ipython3",
   "version": "3.9.15"
  },
  "vscode": {
   "interpreter": {
    "hash": "672b62ada503359a2e29deaf97e4d900f2af6bdd788748d1dd051bc8914148d8"
   }
  }
 },
 "nbformat": 4,
 "nbformat_minor": 5
}
